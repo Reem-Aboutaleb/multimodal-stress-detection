{
  "nbformat": 4,
  "nbformat_minor": 0,
  "metadata": {
    "colab": {
      "provenance": [],
      "authorship_tag": "ABX9TyNl+SPc1Uafp5xh5y9NpQ+b",
      "include_colab_link": true
    },
    "kernelspec": {
      "name": "python3",
      "display_name": "Python 3"
    },
    "language_info": {
      "name": "python"
    }
  },
  "cells": [
    {
      "cell_type": "markdown",
      "metadata": {
        "id": "view-in-github",
        "colab_type": "text"
      },
      "source": [
        "<a href=\"https://colab.research.google.com/github/Reem-Aboutaleb/multimodal-stress-detection/blob/main/03_Feature_Extraction.ipynb\" target=\"_parent\"><img src=\"https://colab.research.google.com/assets/colab-badge.svg\" alt=\"Open In Colab\"/></a>"
      ]
    },
    {
      "cell_type": "code",
      "execution_count": 3,
      "metadata": {
        "colab": {
          "base_uri": "https://localhost:8080/"
        },
        "id": "PzCy6EwuOHeD",
        "outputId": "19ff1350-b294-4cd3-cb5e-3688f56ae3fc"
      },
      "outputs": [
        {
          "output_type": "stream",
          "name": "stdout",
          "text": [
            "✅ Features saved to extracted_features.csv\n"
          ]
        }
      ],
      "source": [
        "import pandas as pd\n",
        "import numpy as np\n",
        "from scipy.signal import find_peaks\n",
        "\n",
        "# Load preprocessed signal data\n",
        "df = pd.read_csv(\"sample_signals.csv\")\n",
        "ppg = df['ppg']\n",
        "eda = df['eda']\n",
        "label = df['label']\n",
        "# Detect PPG peaks (simulated heartbeats)\n",
        "peaks, _ = find_peaks(ppg, distance=50)\n",
        "\n",
        "# Inter-beat intervals (IBI)\n",
        "ibi = np.diff(peaks)\n",
        "\n",
        "# HRV features\n",
        "def hrv_features(ibi):\n",
        "    if len(ibi) < 2:\n",
        "        return {'ibi_mean': 0, 'ibi_sdnn': 0, 'ibi_rmssd': 0}\n",
        "    return {\n",
        "        'ibi_mean': np.mean(ibi),\n",
        "        'ibi_sdnn': np.std(ibi),\n",
        "        'ibi_rmssd': np.sqrt(np.mean(np.square(np.diff(ibi))))\n",
        "    }\n",
        "\n",
        "hrv = hrv_features(ibi)\n",
        "eda_mean = np.mean(eda)\n",
        "eda_std = np.std(eda)\n",
        "eda_max = np.max(eda)\n",
        "eda_min = np.min(eda)\n",
        "features = {\n",
        "    'ppg_ibi_mean': hrv['ibi_mean'],\n",
        "    'ppg_ibi_sdnn': hrv['ibi_sdnn'],\n",
        "    'ppg_ibi_rmssd': hrv['ibi_rmssd'],\n",
        "    'eda_mean': eda_mean,\n",
        "    'eda_std': eda_std,\n",
        "    'eda_max': eda_max,\n",
        "    'eda_min': eda_min\n",
        "}\n",
        "\n",
        "features_df = pd.DataFrame([features])\n",
        "features_df\n",
        "features_df.to_csv(\"extracted_features.csv\", index=False)\n",
        "print(\"✅ Features saved to extracted_features.csv\")\n"
      ]
    }
  ]
}
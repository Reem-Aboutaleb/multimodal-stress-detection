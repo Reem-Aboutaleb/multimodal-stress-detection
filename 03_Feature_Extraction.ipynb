{
  "nbformat": 4,
  "nbformat_minor": 0,
  "metadata": {
    "colab": {
      "provenance": [],
      "authorship_tag": "ABX9TyOg5mAy121D1ogfMQwixdiE",
      "include_colab_link": true
    },
    "kernelspec": {
      "name": "python3",
      "display_name": "Python 3"
    },
    "language_info": {
      "name": "python"
    }
  },
  "cells": [
    {
      "cell_type": "markdown",
      "metadata": {
        "id": "view-in-github",
        "colab_type": "text"
      },
      "source": [
        "<a href=\"https://colab.research.google.com/github/Reem-Aboutaleb/multimodal-stress-detection/blob/main/03_Feature_Extraction.ipynb\" target=\"_parent\"><img src=\"https://colab.research.google.com/assets/colab-badge.svg\" alt=\"Open In Colab\"/></a>"
      ]
    },
    {
      "cell_type": "code",
      "execution_count": 2,
      "metadata": {
        "id": "ChWIamLQPCCj",
        "colab": {
          "base_uri": "https://localhost:8080/"
        },
        "outputId": "e3d55692-a649-46bb-c43d-a8a30b0e952f"
      },
      "outputs": [
        {
          "output_type": "stream",
          "name": "stdout",
          "text": [
            "✅ Features saved to extracted_features.csv\n"
          ]
        },
        {
          "output_type": "stream",
          "name": "stderr",
          "text": [
            "/usr/local/lib/python3.11/dist-packages/scipy/signal/_spectral_py.py:600: UserWarning: nperseg = 256 is greater than input length  = 90, using nperseg = 90\n",
            "  freqs, _, Pxy = _spectral_helper(x, y, fs, window, nperseg, noverlap,\n",
            "<ipython-input-2-4be0ab3cd119>:63: DeprecationWarning: `trapz` is deprecated. Use `trapezoid` instead, or one of the numerical integration functions in `scipy.integrate`.\n",
            "  lf = np.trapz(pxx[lf_band], fxx[lf_band])\n",
            "<ipython-input-2-4be0ab3cd119>:64: DeprecationWarning: `trapz` is deprecated. Use `trapezoid` instead, or one of the numerical integration functions in `scipy.integrate`.\n",
            "  hf = np.trapz(pxx[hf_band], fxx[hf_band])\n"
          ]
        }
      ],
      "source": [
        "import pandas as pd\n",
        "import numpy as np\n",
        "from scipy.signal import find_peaks\n",
        "\n",
        "# Load the dataset (same as before)\n",
        "df = pd.read_csv(\"sample_signals.csv\")\n",
        "ppg = df['ppg']\n",
        "eda = df['eda']\n",
        "label = df['label']\n",
        "\n",
        "# --- PPG Feature Extraction ---\n",
        "peaks, _ = find_peaks(ppg, distance=50)\n",
        "ibi = np.diff(peaks)\n",
        "\n",
        "def hrv_features(ibi):\n",
        "    if len(ibi) < 2:\n",
        "        return {'ibi_mean': 0, 'ibi_sdnn': 0, 'ibi_rmssd': 0}\n",
        "    return {\n",
        "        'ibi_mean': np.mean(ibi),\n",
        "        'ibi_sdnn': np.std(ibi),\n",
        "        'ibi_rmssd': np.sqrt(np.mean(np.square(np.diff(ibi))))\n",
        "    }\n",
        "\n",
        "hrv = hrv_features(ibi)\n",
        "\n",
        "# --- EDA Feature Extraction ---\n",
        "eda_mean = np.mean(eda)\n",
        "eda_std = np.std(eda)\n",
        "eda_max = np.max(eda)\n",
        "eda_min = np.min(eda)\n",
        "\n",
        "# --- Combine All Features ---\n",
        "features = {\n",
        "    'ppg_ibi_mean': hrv['ibi_mean'],\n",
        "    'ppg_ibi_sdnn': hrv['ibi_sdnn'],\n",
        "    'ppg_ibi_rmssd': hrv['ibi_rmssd'],\n",
        "    'eda_mean': eda_mean,\n",
        "    'eda_std': eda_std,\n",
        "    'eda_max': eda_max,\n",
        "    'eda_min': eda_min\n",
        "}\n",
        "\n",
        "features_df = pd.DataFrame([features])\n",
        "features_df.to_csv(\"extracted_features.csv\", index=False)\n",
        "print(\"✅ Features saved to extracted_features.csv\")\n",
        "df = pd.read_csv(\"extracted_features.csv\")\n",
        "from scipy.signal import welch\n",
        "\n",
        "# --- pNN50 ---\n",
        "def pnn50(ibi):\n",
        "    diff_ibi = np.abs(np.diff(ibi))\n",
        "    return 100.0 * np.sum(diff_ibi > 50) / len(diff_ibi)\n",
        "\n",
        "# --- Frequency Domain HRV ---\n",
        "def frequency_domain_features(ibi, fs=4):\n",
        "    if len(ibi) < 2:\n",
        "        return {'HRV_LF': 0, 'HRV_HF': 0, 'LF_HF_ratio': 0}\n",
        "\n",
        "    fxx, pxx = welch(ibi, fs=fs)\n",
        "    lf_band = (fxx >= 0.04) & (fxx <= 0.15)\n",
        "    hf_band = (fxx >= 0.15) & (fxx <= 0.4)\n",
        "\n",
        "    lf = np.trapz(pxx[lf_band], fxx[lf_band])\n",
        "    hf = np.trapz(pxx[hf_band], fxx[hf_band])\n",
        "    return {\n",
        "        'HRV_LF': lf,\n",
        "        'HRV_HF': hf,\n",
        "        'LF_HF_ratio': lf / hf if hf != 0 else 0\n",
        "    }\n",
        "\n",
        "# Calculate new HRV features\n",
        "pnn_50 = pnn50(ibi)\n",
        "freq_feats = frequency_domain_features(ibi)\n",
        "from scipy.signal import find_peaks\n",
        "\n",
        "# Find EDA peaks\n",
        "eda_peaks, properties = find_peaks(eda, distance=50, prominence=0.02)\n",
        "scr_count = len(eda_peaks)\n",
        "scr_mean_amp = np.mean(properties[\"prominences\"]) if scr_count > 0 else 0\n",
        "features = {\n",
        "    'ppg_ibi_mean': hrv['ibi_mean'],\n",
        "    'ppg_ibi_sdnn': hrv['ibi_sdnn'],\n",
        "    'ppg_ibi_rmssd': hrv['ibi_rmssd'],\n",
        "    'pnn50': pnn_50,\n",
        "    'HRV_LF': freq_feats['HRV_LF'],\n",
        "    'HRV_HF': freq_feats['HRV_HF'],\n",
        "    'LF_HF_ratio': freq_feats['LF_HF_ratio'],\n",
        "    'eda_mean': eda_mean,\n",
        "    'eda_std': eda_std,\n",
        "    'eda_max': eda_max,\n",
        "    'eda_min': eda_min,\n",
        "    'eda_scr_count': scr_count,\n",
        "    'eda_scr_mean_amp': scr_mean_amp\n",
        "}\n",
        "features_df = pd.DataFrame([features])\n",
        "features_df.to_csv(\"extracted_features_advanced.csv\", index=False)\n",
        "\n",
        "\n",
        "\n",
        "\n"
      ]
    }
  ]
}